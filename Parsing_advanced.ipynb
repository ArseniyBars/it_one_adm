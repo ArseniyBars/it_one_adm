{
 "cells": [
  {
   "cell_type": "code",
   "execution_count": 115,
   "id": "48ef8a3e-5e66-48db-aa90-559a15cc269f",
   "metadata": {},
   "outputs": [],
   "source": [
    "import pandas as pd\n",
    "import re\n",
    "import os\n",
    "import zipfile\n",
    "import json\n",
    "import asyncio\n",
    "from aio_pika import DeliveryMode, Message, connect\n",
    "from config import conn"
   ]
  },
  {
   "cell_type": "code",
   "execution_count": 3,
   "id": "d8d9fd92-8e30-498b-b258-7b654b843ca8",
   "metadata": {},
   "outputs": [],
   "source": [
    "def create_proxy_extension(inp):\n",
    "\tPROXY_HOST, PROXY_PORT, PROXY_USER, PROXY_PASS=inp.split(':')\n",
    "\tmanifest_json = \"\"\"\n",
    "\t{\n",
    "\t\"version\": \"1.0.0\",\n",
    "\t\"manifest_version\": 2,\n",
    "\t\"name\": \"Chrome Proxy\",\n",
    "\t\"permissions\": [\n",
    "\t\t\"proxy\",\n",
    "\t\t\"tabs\",\n",
    "\t\t\"unlimitedStorage\",\n",
    "\t\t\"storage\",\n",
    "\t\t\"<all_urls>\",\n",
    "\t\t\"webRequest\",\n",
    "\t\t\"webRequestBlocking\"\n",
    "\t],\n",
    "\t\"background\": {\n",
    "\t\t\"scripts\": [\"background.js\"]\n",
    "\t},\n",
    "\t\"minimum_chrome_version\":\"22.0.0\"\n",
    "\t}\n",
    "\t\"\"\"\n",
    "\n",
    "\tbackground_js = \"\"\"\n",
    "\tvar config = {\n",
    "\t\tmode: \"fixed_servers\",\n",
    "\t\trules: {\n",
    "\t\tsingleProxy: {\n",
    "\t\t\tscheme: \"http\",\n",
    "\t\t\thost: \"%s\",\n",
    "\t\t\tport: parseInt(%s)\n",
    "\t\t},\n",
    "\t\tbypassList: [\"localhost\"]\n",
    "\t\t}\n",
    "\t};\n",
    "\n",
    "\tchrome.proxy.settings.set({value: config, scope: \"regular\"}, function() {});\n",
    "\n",
    "\tfunction callbackFn(details) {\n",
    "\t\treturn {\n",
    "\t\t\tauthCredentials: {\n",
    "\t\t\tusername: \"%s\",\n",
    "\t\t\tpassword: \"%s\"\n",
    "\t\t\t}\n",
    "\t\t};\n",
    "\t}\n",
    "\n",
    "\tchrome.webRequest.onAuthRequired.addListener(\n",
    "\t\t\tcallbackFn,\n",
    "\t\t\t{urls: [\"<all_urls>\"]},\n",
    "\t\t\t['blocking']\n",
    "\t);\n",
    "\t\"\"\" % (PROXY_HOST, PROXY_PORT, PROXY_USER, PROXY_PASS)\n",
    "\twith zipfile.ZipFile(os.path.join('proxy_extensions', PROXY_HOST+'.zip'), 'w') as zp:\n",
    "\t\tzp.writestr(\"manifest.json\", manifest_json)\n",
    "\t\tzp.writestr(\"background.js\", background_js)\n",
    "\n",
    "#create_proxy_extension(\"185.42.27.255:10244:hhC6frMjKs:Wcnh3W2TPG\")\n",
    "create_proxy_extension(\"195.19.159.132:10244:QtnwmJ9MD4:cBM6nMQL95\")\n",
    "create_proxy_extension(\"195.19.159.131:10244:KT3rHKWExY:VwgtwMRdxW\")\n",
    "create_proxy_extension(\"195.19.159.99:10244:cYXGe2cAGu:ZkrFP8NVd7\")\n",
    "#create_proxy_extension(\"194.226.239.50:10244:v8HMdtkFrQ:6wZRUtDGMA\")\n",
    "create_proxy_extension(\"195.19.159.91:10244:W698HjfS66:x6sLLRm7DM\")\n",
    "#create_proxy_extension(\"83.171.240.137:10244:udV72GA6e3:p7hnrsArdu\")\n",
    "create_proxy_extension(\"5.8.16.115:10244:gtcxa3BaSk:aRSBUfMyWC\")"
   ]
  },
  {
   "cell_type": "code",
   "execution_count": 5,
   "id": "e77b2914-b7c7-4087-9b90-6edfe5b2461e",
   "metadata": {},
   "outputs": [],
   "source": [
    "df=pd.read_excel('gpb_adm_data.xlsx', sheet_name='TIDS')[['TID', 'longitude', 'latitude']].set_index('TID')"
   ]
  },
  {
   "cell_type": "code",
   "execution_count": 113,
   "id": "aca8a77b-2b56-482e-8ba4-9302fe06be9f",
   "metadata": {},
   "outputs": [],
   "source": [
    "pd.DataFrame(columns=['TID', 'latitude', 'longitude', 'link', 'adress', 'metro_station', 'distance_to_station']\n",
    "            ).to_csv('adm_parsing_data.csv', index=False)\n",
    "pd.DataFrame(columns=['TID', 'organization_name', 'organization_name']\n",
    "            ).to_csv('adm_organizations.csv', index=False)"
   ]
  },
  {
   "cell_type": "code",
   "execution_count": 21,
   "id": "3e11b1de-e088-476b-aa0b-5baaf7ee69a3",
   "metadata": {},
   "outputs": [
    {
     "name": "stdout",
     "output_type": "stream",
     "text": [
      "('Connection aborted.', RemoteDisconnected('Remote end closed connection without response'))\n",
      "====================\n",
      "('Connection aborted.', RemoteDisconnected('Remote end closed connection without response'))\n",
      "====================\n",
      "('Connection aborted.', RemoteDisconnected('Remote end closed connection without response'))\n",
      "====================\n"
     ]
    }
   ],
   "source": [
    "async def listening():\n",
    "    connection = await connect(conn)\n",
    "    async with connection:\n",
    "        channel = await connection.channel()\n",
    "        queue = await channel.declare_queue(\"parsing_output\", durable=True)\n",
    "        async for msg in queue:\n",
    "            if msg.body!=b'success':\n",
    "                print(msg.body.decode())\n",
    "                print('='*20)\n",
    "\n",
    "t1=asyncio.create_task(listening())"
   ]
  },
  {
   "cell_type": "code",
   "execution_count": 33,
   "id": "9881d4b0-4e61-4854-a3d2-85166c5eabb1",
   "metadata": {},
   "outputs": [
    {
     "name": "stdout",
     "output_type": "stream",
     "text": [
      "message has been send\n"
     ]
    }
   ],
   "source": [
    "async def main() -> None:\n",
    "    # Perform connection\n",
    "    connection = await connect(conn)\n",
    "    async with connection:\n",
    "        # Creating a channel\n",
    "        channel = await connection.channel()\n",
    "\n",
    "        # Declaring queue\n",
    "        queue = await channel.declare_queue(\"parsing_input\", durable=True)\n",
    "        # Sending the message\n",
    "        for tids, r in df.iloc[1000:].iterrows():\n",
    "            msg=json.dumps({'tids': tids, 'latitude': r['latitude'], 'longitude': r['longitude']})\n",
    "            await channel.default_exchange.publish(Message(msg.encode(), delivery_mode=DeliveryMode.PERSISTENT),\n",
    "                    routing_key=queue.name)\n",
    "        #await channel.default_exchange.publish(\n",
    "        #    Message(b\"quit\", delivery_mode=DeliveryMode.PERSISTENT),\n",
    "        #    routing_key=queue.name,\n",
    "        #)\n",
    "        print('message has been send')\n",
    "\n",
    "t2=asyncio.create_task(main())"
   ]
  }
 ],
 "metadata": {
  "kernelspec": {
   "display_name": "it_one",
   "language": "python",
   "name": "it_one"
  },
  "language_info": {
   "codemirror_mode": {
    "name": "ipython",
    "version": 3
   },
   "file_extension": ".py",
   "mimetype": "text/x-python",
   "name": "python",
   "nbconvert_exporter": "python",
   "pygments_lexer": "ipython3",
   "version": "3.13.2"
  }
 },
 "nbformat": 4,
 "nbformat_minor": 5
}
