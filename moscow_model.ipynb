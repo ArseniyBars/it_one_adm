{
 "cells": [
  {
   "cell_type": "code",
   "execution_count": 1,
   "id": "1ebabc30-5ce4-40d7-b931-2ae17f639325",
   "metadata": {},
   "outputs": [],
   "source": [
    "from xgboost import XGBRegressor\n",
    "import pandas as pd\n",
    "from sklearn.metrics import r2_score\n",
    "import numpy as np"
   ]
  },
  {
   "cell_type": "code",
   "execution_count": 3,
   "id": "27d400f6-e52d-40d7-8bf9-8d76b72ffa56",
   "metadata": {},
   "outputs": [],
   "source": [
    "df=pd.read_csv('moscow_data.csv').set_index('TID').join(\n",
    "    pd.read_csv('org_features.csv').set_index('TID')).fillna(0).join(\n",
    "    pd.read_csv('target_nov_sept.csv').set_index('TID')[['target_sept']])\n",
    "df=df[df.target_sept.notnull()]\n",
    "x=df[df.columns[:-1]]\n",
    "x=x.apply(lambda c: (c-c.mean())/c.std())\n",
    "y=df.target_sept"
   ]
  },
  {
   "cell_type": "code",
   "execution_count": 5,
   "id": "8c7b5b29-6f14-4302-b3ee-fc32eef51f88",
   "metadata": {},
   "outputs": [],
   "source": [
    "mask=np.ones(len(x), dtype=bool)\n",
    "cv_index=np.zeros(len(x), dtype=int)\n",
    "num_col=len(x.columns)-1\n",
    "cur_index=0\n",
    "while np.sum(mask)>0 and num_col>len(x.columns)-1-35:\n",
    "    new_mask=np.logical_and(mask, x[x.columns[num_col]]>0)\n",
    "    new_elements=np.where(new_mask, new_mask.astype(int).cumsum()+cur_index, 0)\n",
    "    mask=np.where(np.logical_not(new_mask), mask, False)\n",
    "    cur_index+=len(new_mask)\n",
    "    cv_index+=new_elements\n",
    "    num_col-=1\n",
    "cv_index+=np.where(mask, mask.astype(int).cumsum()+cur_index, 0)"
   ]
  },
  {
   "cell_type": "code",
   "execution_count": 7,
   "id": "4277f80e-e718-4804-b125-441066f64280",
   "metadata": {},
   "outputs": [
    {
     "data": {
      "text/plain": [
       "-0.005389011221891948"
      ]
     },
     "execution_count": 7,
     "metadata": {},
     "output_type": "execute_result"
    }
   ],
   "source": [
    "y_actual=[]\n",
    "y_pred=[]\n",
    "for i in range(5):\n",
    "    test=cv_index%5==i\n",
    "    train=np.logical_not(test)\n",
    "    y_actual.append(y[test])\n",
    "    mod=XGBRegressor(verbosity=0, eta=0.015, max_depth=3)\n",
    "    y_pred.append(mod.fit(x[train], y[train]).predict(x[test]))\n",
    "r2_score(np.concatenate(y_actual), np.concatenate(y_pred))"
   ]
  },
  {
   "cell_type": "code",
   "execution_count": null,
   "id": "3119e5a3-8e83-44d5-8853-b644f7fd9573",
   "metadata": {},
   "outputs": [],
   "source": []
  }
 ],
 "metadata": {
  "kernelspec": {
   "display_name": "it_one",
   "language": "python",
   "name": "it_one"
  },
  "language_info": {
   "codemirror_mode": {
    "name": "ipython",
    "version": 3
   },
   "file_extension": ".py",
   "mimetype": "text/x-python",
   "name": "python",
   "nbconvert_exporter": "python",
   "pygments_lexer": "ipython3",
   "version": "3.13.2"
  }
 },
 "nbformat": 4,
 "nbformat_minor": 5
}
