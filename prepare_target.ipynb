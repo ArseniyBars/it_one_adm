{
 "cells": [
  {
   "cell_type": "code",
   "execution_count": 1,
   "id": "01f7db29-9ee1-4776-bd8c-517c70002580",
   "metadata": {},
   "outputs": [],
   "source": [
    "import pandas as pd\n",
    "from sklearn.metrics import r2_score\n",
    "from datetime import datetime"
   ]
  },
  {
   "cell_type": "code",
   "execution_count": 3,
   "id": "15dcd9d7-c1b1-4aa5-9edd-168aa0837076",
   "metadata": {},
   "outputs": [],
   "source": [
    "df=pd.read_excel('gpb_adm_data.xlsx', sheet_name='Incomes').set_index('TID')\n",
    "df=df.rename(columns={c:str(c).split(' ')[0] for c in df.columns})"
   ]
  },
  {
   "cell_type": "code",
   "execution_count": 5,
   "id": "aed53c19-35ac-4b11-b020-9fce534d039b",
   "metadata": {},
   "outputs": [],
   "source": [
    "col_set_nov=[f'2022-11-{i:0>2}' for i  in range(15, 31)]\n",
    "col_set_sept=[f'2022-09-{i:0>2}' for i  in range(1, 16)]\n",
    "target_df=(df[col_set_nov].apply(sum, axis=1)/(df[col_set_nov]>0).astype(int).apply(sum, axis=1)\n",
    "          ).rename('target_nov').to_frame()\n",
    "target_df=target_df.join((df[col_set_sept].apply(sum, axis=1)/(df[col_set_sept]>0).astype(int).apply(sum, axis=1)\n",
    "          ).rename('target_sept'))\n",
    "target_df=target_df[target_df.target_sept.notnull()&target_df.target_nov.notnull()]\n",
    "target_df.to_csv('target_nov_sept.csv')"
   ]
  },
  {
   "cell_type": "code",
   "execution_count": 7,
   "id": "7cb35d5b-67c2-4e39-99dd-32507b52b55e",
   "metadata": {},
   "outputs": [
    {
     "data": {
      "text/plain": [
       "0.8391220853117868"
      ]
     },
     "execution_count": 7,
     "metadata": {},
     "output_type": "execute_result"
    }
   ],
   "source": [
    "r2_score(target_df.target_sept, target_df.target_nov)"
   ]
  },
  {
   "cell_type": "code",
   "execution_count": 9,
   "id": "4485280d-fe10-444e-925e-cc7cc7a784ad",
   "metadata": {},
   "outputs": [
    {
     "name": "stdout",
     "output_type": "stream",
     "text": [
      "Пн 0.7181345934172241\n",
      "Вт 0.703390845963458\n",
      "Ср 0.8009815204759457\n",
      "Чт 0.4962865524503747\n",
      "Пт 0.5017266892174792\n",
      "Сб 0.7448523623491778\n",
      "Вс 0.6932683643568567\n"
     ]
    }
   ],
   "source": [
    "sept_days={i: [] for i in range(7)}\n",
    "for i  in range(1, 16):\n",
    "    sept_days[datetime(2022, 9, i).weekday()].append(f'2022-09-{i:0>2}')\n",
    "nov_days={i: [] for i in range(7)}\n",
    "for i  in range(15,31):\n",
    "    nov_days[datetime(2022, 11, i).weekday()].append(f'2022-11-{i:0>2}')\n",
    "week_days=['Пн', 'Вт', 'Ср', 'Чт', 'Пт', 'Сб', 'Вс'] \n",
    "for i in range(7):\n",
    "    x=df[sept_days[i]].apply(sum, axis=1)/(df[sept_days[i]]>0).astype(int).apply(sum, axis=1)\n",
    "    y=df[nov_days[i]].apply(sum, axis=1)/(df[nov_days[i]]>0).astype(int).apply(sum, axis=1)\n",
    "    print(week_days[i], r2_score(x[x.notnull()&y.notnull()], y[x.notnull()&y.notnull()]))"
   ]
  },
  {
   "cell_type": "code",
   "execution_count": null,
   "id": "aa974d5c-ba64-4d2e-b1b8-e1d6409e79e1",
   "metadata": {},
   "outputs": [],
   "source": []
  }
 ],
 "metadata": {
  "kernelspec": {
   "display_name": "it_one",
   "language": "python",
   "name": "it_one"
  },
  "language_info": {
   "codemirror_mode": {
    "name": "ipython",
    "version": 3
   },
   "file_extension": ".py",
   "mimetype": "text/x-python",
   "name": "python",
   "nbconvert_exporter": "python",
   "pygments_lexer": "ipython3",
   "version": "3.13.2"
  }
 },
 "nbformat": 4,
 "nbformat_minor": 5
}
